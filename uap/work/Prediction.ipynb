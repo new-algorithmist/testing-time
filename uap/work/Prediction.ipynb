{
 "cells": [
  {
   "cell_type": "code",
   "execution_count": 3,
   "metadata": {},
   "outputs": [],
   "source": [
    "# IMPORTS FROM OTHER NOTEBOOKS\n",
    "import ipynb.fs\n",
    "from .defs.AmazonReviewData import test"
   ]
  },
  {
   "cell_type": "code",
   "execution_count": 4,
   "metadata": {},
   "outputs": [
    {
     "name": "stdout",
     "output_type": "stream",
     "text": [
      "YES!!\n"
     ]
    }
   ],
   "source": [
    "test()"
   ]
  },
  {
   "cell_type": "code",
   "execution_count": 1,
   "metadata": {},
   "outputs": [
    {
     "name": "stdout",
     "output_type": "stream",
     "text": [
      "['http://snap.stanford.edu/data/amazon/productGraph/categoryFiles/ratings_Amazon_Instant_Video.csv', 'http://snap.stanford.edu/data/amazon/productGraph/categoryFiles/ratings_Toys_and_Games.csv', 'http://snap.stanford.edu/data/amazon/productGraph/categoryFiles/ratings_Books.csv']\n"
     ]
    },
    {
     "data": {
      "text/html": [
       "<div>\n",
       "<table border=\"1\" class=\"dataframe\">\n",
       "  <thead>\n",
       "    <tr style=\"text-align: right;\">\n",
       "      <th></th>\n",
       "      <th>user</th>\n",
       "      <th>item</th>\n",
       "      <th>rating</th>\n",
       "      <th>timestamp</th>\n",
       "    </tr>\n",
       "  </thead>\n",
       "  <tbody>\n",
       "    <tr>\n",
       "      <th>0</th>\n",
       "      <td>AGZ8SM1BGK3CK</td>\n",
       "      <td>B000GFDAUG</td>\n",
       "      <td>5.0</td>\n",
       "      <td>1198195200</td>\n",
       "    </tr>\n",
       "    <tr>\n",
       "      <th>1</th>\n",
       "      <td>A2VHZ21245KBT7</td>\n",
       "      <td>B000GIOPK2</td>\n",
       "      <td>4.0</td>\n",
       "      <td>1215388800</td>\n",
       "    </tr>\n",
       "    <tr>\n",
       "      <th>2</th>\n",
       "      <td>ACX8YW2D5EGP6</td>\n",
       "      <td>B000GIOPK2</td>\n",
       "      <td>4.0</td>\n",
       "      <td>1185840000</td>\n",
       "    </tr>\n",
       "    <tr>\n",
       "      <th>3</th>\n",
       "      <td>A9RNMO9MUSMTJ</td>\n",
       "      <td>B000GIOPK2</td>\n",
       "      <td>2.0</td>\n",
       "      <td>1281052800</td>\n",
       "    </tr>\n",
       "    <tr>\n",
       "      <th>4</th>\n",
       "      <td>A3STFVPM8NHJ7B</td>\n",
       "      <td>B000GIOPK2</td>\n",
       "      <td>5.0</td>\n",
       "      <td>1203897600</td>\n",
       "    </tr>\n",
       "  </tbody>\n",
       "</table>\n",
       "</div>"
      ],
      "text/plain": [
       "             user        item  rating   timestamp\n",
       "0   AGZ8SM1BGK3CK  B000GFDAUG     5.0  1198195200\n",
       "1  A2VHZ21245KBT7  B000GIOPK2     4.0  1215388800\n",
       "2   ACX8YW2D5EGP6  B000GIOPK2     4.0  1185840000\n",
       "3   A9RNMO9MUSMTJ  B000GIOPK2     2.0  1281052800\n",
       "4  A3STFVPM8NHJ7B  B000GIOPK2     5.0  1203897600"
      ]
     },
     "execution_count": 1,
     "metadata": {},
     "output_type": "execute_result"
    }
   ],
   "source": [
    "import pandas as pd\n",
    "\n",
    "# Specify Amazon categories for analysis\n",
    "category = [\n",
    "    'Amazon Instant Video',\n",
    "    'Toys and Games',\n",
    "    'Books'\n",
    "]\n",
    "\n",
    "base_url = 'http://snap.stanford.edu/data/amazon/productGraph/categoryFiles/'\n",
    "url = list(map(lambda c: '{}ratings_{}.csv'.format(base_url,c.replace(' ','_')),category))\n",
    "print(url)\n",
    "\n",
    "col_names = ['user','item','rating','timestamp']\n",
    "df = pd.read_csv(url[0],header=0,names=col_names)\n",
    "df.head()\n"
   ]
  }
 ],
 "metadata": {
  "kernelspec": {
   "display_name": "Python 3",
   "language": "python",
   "name": "python3"
  },
  "language_info": {
   "codemirror_mode": {
    "name": "ipython",
    "version": 3
   },
   "file_extension": ".py",
   "mimetype": "text/x-python",
   "name": "python",
   "nbconvert_exporter": "python",
   "pygments_lexer": "ipython3",
   "version": "3.6.3"
  }
 },
 "nbformat": 4,
 "nbformat_minor": 2
}
