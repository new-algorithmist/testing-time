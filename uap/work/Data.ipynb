{
 "cells": [
  {
   "cell_type": "code",
   "execution_count": 1,
   "metadata": {},
   "outputs": [],
   "source": [
    "# Imports from Python 3 packages\n",
    "from pandas import read_csv, to_datetime"
   ]
  },
  {
   "cell_type": "code",
   "execution_count": 2,
   "metadata": {},
   "outputs": [
    {
     "name": "stdout",
     "output_type": "stream",
     "text": [
      "http://snap.stanford.edu/data/amazon/productGraph/categoryFiles/ratings_Amazon_Instant_Video.csv\n"
     ]
    }
   ],
   "source": [
    "# Get Amazon review data URL by category\n",
    "def getAmazonReviewDataURL(category):\n",
    "    base_url = 'http://snap.stanford.edu/data/amazon/productGraph/categoryFiles/'\n",
    "    return('{}ratings_{}.csv'.format(base_url,category.replace(' ','_')))\n",
    "\n",
    "# Example\n",
    "print(getAmazonReviewDataURL('Amazon Instant Video'))"
   ]
  },
  {
   "cell_type": "code",
   "execution_count": 3,
   "metadata": {},
   "outputs": [
    {
     "name": "stdout",
     "output_type": "stream",
     "text": [
      "             user        item  rating   timestamp\n",
      "0   AGZ8SM1BGK3CK  B000GFDAUG     5.0  1198195200\n",
      "1  A2VHZ21245KBT7  B000GIOPK2     4.0  1215388800\n",
      "2   ACX8YW2D5EGP6  B000GIOPK2     4.0  1185840000\n",
      "3   A9RNMO9MUSMTJ  B000GIOPK2     2.0  1281052800\n",
      "4  A3STFVPM8NHJ7B  B000GIOPK2     5.0  1203897600\n"
     ]
    }
   ],
   "source": [
    "# Get Amazon review data by category\n",
    "def getAmazonReviewData(category):\n",
    "    read_csv_ops = {\n",
    "        'header' : 0,\n",
    "        'names' :  ['user','item','rating','timestamp']\n",
    "    }\n",
    "    return(read_csv(getAmazonReviewDataURL(category),**read_csv_ops))\n",
    "\n",
    "# Example \n",
    "print(getAmazonReviewData('Amazon Instant Video').head())"
   ]
  },
  {
   "cell_type": "code",
   "execution_count": 5,
   "metadata": {
    "scrolled": true
   },
   "outputs": [
    {
     "ename": "AttributeError",
     "evalue": "'PeriodProperties' object has no attribute 'to_datestamp'",
     "output_type": "error",
     "traceback": [
      "\u001b[0;31m---------------------------------------------------------------------------\u001b[0m",
      "\u001b[0;31mAttributeError\u001b[0m                            Traceback (most recent call last)",
      "\u001b[0;32m<ipython-input-5-f7691ec29ea0>\u001b[0m in \u001b[0;36m<module>\u001b[0;34m()\u001b[0m\n\u001b[1;32m     11\u001b[0m \u001b[0;34m\u001b[0m\u001b[0m\n\u001b[1;32m     12\u001b[0m \u001b[0;31m# Example\u001b[0m\u001b[0;34m\u001b[0m\u001b[0;34m\u001b[0m\u001b[0m\n\u001b[0;32m---> 13\u001b[0;31m \u001b[0mprint\u001b[0m\u001b[0;34m(\u001b[0m\u001b[0mgetUserActivityData\u001b[0m\u001b[0;34m(\u001b[0m\u001b[0;34m'Amazon Instant Video'\u001b[0m\u001b[0;34m)\u001b[0m\u001b[0;34m.\u001b[0m\u001b[0mhead\u001b[0m\u001b[0;34m(\u001b[0m\u001b[0;34m)\u001b[0m\u001b[0;34m)\u001b[0m\u001b[0;34m\u001b[0m\u001b[0m\n\u001b[0m",
      "\u001b[0;32m<ipython-input-5-f7691ec29ea0>\u001b[0m in \u001b[0;36mgetUserActivityData\u001b[0;34m(category)\u001b[0m\n\u001b[1;32m      7\u001b[0m     }\n\u001b[1;32m      8\u001b[0m     \u001b[0mdf\u001b[0m \u001b[0;34m=\u001b[0m \u001b[0mread_csv\u001b[0m\u001b[0;34m(\u001b[0m\u001b[0mgetAmazonReviewDataURL\u001b[0m\u001b[0;34m(\u001b[0m\u001b[0mcategory\u001b[0m\u001b[0;34m)\u001b[0m\u001b[0;34m,\u001b[0m\u001b[0;34m**\u001b[0m\u001b[0mread_csv_ops\u001b[0m\u001b[0;34m)\u001b[0m\u001b[0;34m\u001b[0m\u001b[0m\n\u001b[0;32m----> 9\u001b[0;31m     \u001b[0mdf\u001b[0m\u001b[0;34m[\u001b[0m\u001b[0;34m'month'\u001b[0m\u001b[0;34m]\u001b[0m \u001b[0;34m=\u001b[0m \u001b[0mto_datetime\u001b[0m\u001b[0;34m(\u001b[0m\u001b[0mdf\u001b[0m\u001b[0;34m[\u001b[0m\u001b[0;34m'month'\u001b[0m\u001b[0;34m]\u001b[0m\u001b[0;34m,\u001b[0m\u001b[0munit\u001b[0m\u001b[0;34m=\u001b[0m\u001b[0;34m's'\u001b[0m\u001b[0;34m)\u001b[0m\u001b[0;34m.\u001b[0m\u001b[0mdt\u001b[0m\u001b[0;34m.\u001b[0m\u001b[0mto_period\u001b[0m\u001b[0;34m(\u001b[0m\u001b[0;34m'M'\u001b[0m\u001b[0;34m)\u001b[0m\u001b[0;34m.\u001b[0m\u001b[0mdt\u001b[0m\u001b[0;34m.\u001b[0m\u001b[0mto_datestamp\u001b[0m\u001b[0;34m(\u001b[0m\u001b[0;34m)\u001b[0m\u001b[0;34m\u001b[0m\u001b[0m\n\u001b[0m\u001b[1;32m     10\u001b[0m     \u001b[0;32mreturn\u001b[0m\u001b[0;34m(\u001b[0m\u001b[0mdf\u001b[0m\u001b[0;34m)\u001b[0m\u001b[0;34m\u001b[0m\u001b[0m\n\u001b[1;32m     11\u001b[0m \u001b[0;34m\u001b[0m\u001b[0m\n",
      "\u001b[0;31mAttributeError\u001b[0m: 'PeriodProperties' object has no attribute 'to_datestamp'"
     ]
    }
   ],
   "source": [
    "# Get User activity data by category\n",
    "def getUserActivityData(category):\n",
    "    read_csv_ops = {\n",
    "        'header' : 0,\n",
    "        'usecols' : [0,1,3],\n",
    "        'names' :  ['user','item','month']\n",
    "    }\n",
    "    df = read_csv(getAmazonReviewDataURL(category),**read_csv_ops)\n",
    "    df['month'] = to_datetime(df['month'],unit='s').dt.to_period('M').dt.to_timestamp()\n",
    "    return(df)\n",
    "\n",
    "# Example\n",
    "print(getUserActivityData('Amazon Instant Video').head())"
   ]
  }
 ],
 "metadata": {
  "kernelspec": {
   "display_name": "Python 3",
   "language": "python",
   "name": "python3"
  },
  "language_info": {
   "codemirror_mode": {
    "name": "ipython",
    "version": 3
   },
   "file_extension": ".py",
   "mimetype": "text/x-python",
   "name": "python",
   "nbconvert_exporter": "python",
   "pygments_lexer": "ipython3",
   "version": "3.6.3"
  }
 },
 "nbformat": 4,
 "nbformat_minor": 2
}
