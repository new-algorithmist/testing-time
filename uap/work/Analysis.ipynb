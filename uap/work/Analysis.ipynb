{
 "cells": [
  {
   "cell_type": "code",
   "execution_count": null,
   "metadata": {},
   "outputs": [],
   "source": [
    "# IMPORTS FROM OTHER NOTEBOOKS\n",
    "import ipynb.fs\n",
    "from .defs.UserActivityData import getUserActivityData"
   ]
  },
  {
   "cell_type": "code",
   "execution_count": null,
   "metadata": {},
   "outputs": [],
   "source": [
    "# LOAD USER ACTIVITY DATA\n",
    "userActivityData = getUserActivityData('Amazon Instant Video')\n",
    "print(userActivityData.head())"
   ]
  },
  {
   "cell_type": "code",
   "execution_count": null,
   "metadata": {},
   "outputs": [],
   "source": [
    "from pandas import Period, date_range\n",
    "start = userActivityData.month.min()\n",
    "end =  userActivityData.month.max()\n",
    "date_range = date_range(userActivityData.month.min(),userActivityData.month.max(),freq='MS').strftime(\"%Y-%m-%d\").tolist()\n",
    "print(date_range)"
   ]
  },
  {
   "cell_type": "code",
   "execution_count": null,
   "metadata": {},
   "outputs": [],
   "source": [
    "# Build training test set by date\n",
    "# - Use all user ID's previously seen\n",
    "\n",
    "\n",
    "def getKnownUsers(userActivityData,month):\n",
    "    trainingData = userActivityData[userActivityData['month']<Period(month)]\n",
    "    testingData = userActivityData[userActivityData['month']==Period(month)]\n",
    "    knownUsers = trainingData.user.unique()\n",
    "    print(knownUsers)\n",
    "    print(testingData.head())\n",
    "\n",
    "\n",
    "    \n",
    "# Example \n",
    "getKnownUsers(userActivityData,'2014-07')"
   ]
  }
 ],
 "metadata": {
  "kernelspec": {
   "display_name": "Python 3",
   "language": "python",
   "name": "python3"
  },
  "language_info": {
   "codemirror_mode": {
    "name": "ipython",
    "version": 3
   },
   "file_extension": ".py",
   "mimetype": "text/x-python",
   "name": "python",
   "nbconvert_exporter": "python",
   "pygments_lexer": "ipython3",
   "version": "3.6.3"
  }
 },
 "nbformat": 4,
 "nbformat_minor": 2
}
